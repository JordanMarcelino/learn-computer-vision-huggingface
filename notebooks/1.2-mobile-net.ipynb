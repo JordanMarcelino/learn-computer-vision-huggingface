{
 "cells": [
  {
   "cell_type": "code",
   "execution_count": 2,
   "metadata": {},
   "outputs": [],
   "source": [
    "import torch\n",
    "import torch.nn as nn\n",
    "import torch.nn.functional as F\n",
    "from torchinfo import summary"
   ]
  },
  {
   "cell_type": "markdown",
   "metadata": {},
   "source": [
    "## MobileNet\n",
    "\n",
    "MobileNet is a type of neural network architecture designed for mobile devices. It was developed by Google’s research team and first introduced in 2017. The primary goal of MobileNet is to provide high-performance, low-latency image classification and object detection on smartphones, tablets, and other resource-constrained devices.\n",
    "\n",
    "MobileNet achieves this by using depthwise separable convolutions, which are a more efficient alternative to standard convolutions. Depthwise separable convolutions break down the computation into two separate steps: depthwise convolution followed by pointwise convolution. This results in a significant reduction of parameters and computational complexity, allowing MobileNet to run efficiently on mobile devices.\n"
   ]
  },
  {
   "cell_type": "markdown",
   "metadata": {},
   "source": [
    "## Convolution Types on MobileNet\n",
    "\n",
    "By replacing regular convolutional layers with these depthwise separable convolutions and pointwise convolutions, MobileNet achieves high accuracy while minimizing computational overhead, making it well-suited for mobile devices and other resource-limited platforms.\n"
   ]
  },
  {
   "cell_type": "code",
   "execution_count": 6,
   "metadata": {},
   "outputs": [],
   "source": [
    "class DepthwiseSeparableConv(nn.Module):\n",
    "    def __init__(self, in_channels, out_channels, stride):\n",
    "        super().__init__()\n",
    "        self.depthwise = nn.Conv2d(\n",
    "            in_channels,\n",
    "            in_channels,\n",
    "            kernel_size=3,\n",
    "            stride=stride,\n",
    "            padding=1,\n",
    "            groups=in_channels,\n",
    "        )\n",
    "        self.pointwise = nn.Conv2d(\n",
    "            in_channels, out_channels, kernel_size=1, stride=1, padding=0\n",
    "        )\n",
    "\n",
    "    def forward(self, x):\n",
    "        x = self.depthwise(x)\n",
    "        x = self.pointwise(x)\n",
    "        return x\n",
    "\n",
    "\n",
    "class MobileNet(nn.Module):\n",
    "    def __init__(self, num_classes=1000):\n",
    "        super().__init__()\n",
    "        self.conv1 = nn.Conv2d(3, 32, kernel_size=3, stride=2, padding=1)\n",
    "\n",
    "        # MobileNet body\n",
    "        self.dw_conv2 = DepthwiseSeparableConv(32, 64, 1)\n",
    "        self.dw_conv3 = DepthwiseSeparableConv(64, 128, 2)\n",
    "        self.dw_conv4 = DepthwiseSeparableConv(128, 128, 1)\n",
    "        self.dw_conv5 = DepthwiseSeparableConv(128, 256, 2)\n",
    "        self.dw_conv6 = DepthwiseSeparableConv(256, 256, 1)\n",
    "        self.dw_conv7 = DepthwiseSeparableConv(256, 512, 2)\n",
    "\n",
    "        # 5 depthwise separable convolutions with stride 1\n",
    "        self.dw_conv8 = DepthwiseSeparableConv(512, 512, 1)\n",
    "        self.dw_conv9 = DepthwiseSeparableConv(512, 512, 1)\n",
    "        self.dw_conv10 = DepthwiseSeparableConv(512, 512, 1)\n",
    "        self.dw_conv11 = DepthwiseSeparableConv(512, 512, 1)\n",
    "        self.dw_conv12 = DepthwiseSeparableConv(512, 512, 1)\n",
    "\n",
    "        self.dw_conv13 = DepthwiseSeparableConv(512, 1024, 2)\n",
    "        self.dw_conv14 = DepthwiseSeparableConv(1024, 1024, 1)\n",
    "\n",
    "        self.avg_pool = nn.AdaptiveAvgPool2d(1)\n",
    "        self.fc = nn.Linear(1024, num_classes)\n",
    "\n",
    "    def forward(self, x):\n",
    "        x = self.conv1(x)\n",
    "        x = F.relu(x)\n",
    "\n",
    "        x = self.dw_conv2(x)\n",
    "        x = F.relu(x)\n",
    "        x = self.dw_conv3(x)\n",
    "        x = F.relu(x)\n",
    "        x = self.dw_conv4(x)\n",
    "        x = F.relu(x)\n",
    "        x = self.dw_conv5(x)\n",
    "        x = F.relu(x)\n",
    "        x = self.dw_conv6(x)\n",
    "        x = F.relu(x)\n",
    "        x = self.dw_conv7(x)\n",
    "        x = F.relu(x)\n",
    "\n",
    "        x = self.dw_conv8(x)\n",
    "        x = F.relu(x)\n",
    "        x = self.dw_conv9(x)\n",
    "        x = F.relu(x)\n",
    "        x = self.dw_conv10(x)\n",
    "        x = F.relu(x)\n",
    "        x = self.dw_conv11(x)\n",
    "        x = F.relu(x)\n",
    "        x = self.dw_conv12(x)\n",
    "        x = F.relu(x)\n",
    "\n",
    "        x = self.dw_conv13(x)\n",
    "        x = F.relu(x)\n",
    "        x = self.dw_conv14(x)\n",
    "        x = F.relu(x)\n",
    "\n",
    "        x = self.avg_pool(x)\n",
    "        x = x.view(x.size(0), -1)\n",
    "        x = self.fc(x)\n",
    "\n",
    "        return x\n"
   ]
  },
  {
   "cell_type": "code",
   "execution_count": 7,
   "metadata": {},
   "outputs": [],
   "source": [
    "model = MobileNet()"
   ]
  },
  {
   "cell_type": "code",
   "execution_count": 8,
   "metadata": {},
   "outputs": [
    {
     "data": {
      "text/plain": [
       "========================================================================================================================\n",
       "Layer (type (var_name))                  Input Shape          Output Shape         Param #              Trainable\n",
       "========================================================================================================================\n",
       "MobileNet (MobileNet)                    [1, 3, 224, 224]     [1, 1000]            --                   True\n",
       "├─Conv2d (conv1)                         [1, 3, 224, 224]     [1, 32, 112, 112]    896                  True\n",
       "├─DepthwiseSeparableConv (dw_conv2)      [1, 32, 112, 112]    [1, 64, 112, 112]    --                   True\n",
       "│    └─Conv2d (depthwise)                [1, 32, 112, 112]    [1, 32, 112, 112]    320                  True\n",
       "│    └─Conv2d (pointwise)                [1, 32, 112, 112]    [1, 64, 112, 112]    2,112                True\n",
       "├─DepthwiseSeparableConv (dw_conv3)      [1, 64, 112, 112]    [1, 128, 56, 56]     --                   True\n",
       "│    └─Conv2d (depthwise)                [1, 64, 112, 112]    [1, 64, 56, 56]      640                  True\n",
       "│    └─Conv2d (pointwise)                [1, 64, 56, 56]      [1, 128, 56, 56]     8,320                True\n",
       "├─DepthwiseSeparableConv (dw_conv4)      [1, 128, 56, 56]     [1, 128, 56, 56]     --                   True\n",
       "│    └─Conv2d (depthwise)                [1, 128, 56, 56]     [1, 128, 56, 56]     1,280                True\n",
       "│    └─Conv2d (pointwise)                [1, 128, 56, 56]     [1, 128, 56, 56]     16,512               True\n",
       "├─DepthwiseSeparableConv (dw_conv5)      [1, 128, 56, 56]     [1, 256, 28, 28]     --                   True\n",
       "│    └─Conv2d (depthwise)                [1, 128, 56, 56]     [1, 128, 28, 28]     1,280                True\n",
       "│    └─Conv2d (pointwise)                [1, 128, 28, 28]     [1, 256, 28, 28]     33,024               True\n",
       "├─DepthwiseSeparableConv (dw_conv6)      [1, 256, 28, 28]     [1, 256, 28, 28]     --                   True\n",
       "│    └─Conv2d (depthwise)                [1, 256, 28, 28]     [1, 256, 28, 28]     2,560                True\n",
       "│    └─Conv2d (pointwise)                [1, 256, 28, 28]     [1, 256, 28, 28]     65,792               True\n",
       "├─DepthwiseSeparableConv (dw_conv7)      [1, 256, 28, 28]     [1, 512, 14, 14]     --                   True\n",
       "│    └─Conv2d (depthwise)                [1, 256, 28, 28]     [1, 256, 14, 14]     2,560                True\n",
       "│    └─Conv2d (pointwise)                [1, 256, 14, 14]     [1, 512, 14, 14]     131,584              True\n",
       "├─DepthwiseSeparableConv (dw_conv8)      [1, 512, 14, 14]     [1, 512, 14, 14]     --                   True\n",
       "│    └─Conv2d (depthwise)                [1, 512, 14, 14]     [1, 512, 14, 14]     5,120                True\n",
       "│    └─Conv2d (pointwise)                [1, 512, 14, 14]     [1, 512, 14, 14]     262,656              True\n",
       "├─DepthwiseSeparableConv (dw_conv9)      [1, 512, 14, 14]     [1, 512, 14, 14]     --                   True\n",
       "│    └─Conv2d (depthwise)                [1, 512, 14, 14]     [1, 512, 14, 14]     5,120                True\n",
       "│    └─Conv2d (pointwise)                [1, 512, 14, 14]     [1, 512, 14, 14]     262,656              True\n",
       "├─DepthwiseSeparableConv (dw_conv10)     [1, 512, 14, 14]     [1, 512, 14, 14]     --                   True\n",
       "│    └─Conv2d (depthwise)                [1, 512, 14, 14]     [1, 512, 14, 14]     5,120                True\n",
       "│    └─Conv2d (pointwise)                [1, 512, 14, 14]     [1, 512, 14, 14]     262,656              True\n",
       "├─DepthwiseSeparableConv (dw_conv11)     [1, 512, 14, 14]     [1, 512, 14, 14]     --                   True\n",
       "│    └─Conv2d (depthwise)                [1, 512, 14, 14]     [1, 512, 14, 14]     5,120                True\n",
       "│    └─Conv2d (pointwise)                [1, 512, 14, 14]     [1, 512, 14, 14]     262,656              True\n",
       "├─DepthwiseSeparableConv (dw_conv12)     [1, 512, 14, 14]     [1, 512, 14, 14]     --                   True\n",
       "│    └─Conv2d (depthwise)                [1, 512, 14, 14]     [1, 512, 14, 14]     5,120                True\n",
       "│    └─Conv2d (pointwise)                [1, 512, 14, 14]     [1, 512, 14, 14]     262,656              True\n",
       "├─DepthwiseSeparableConv (dw_conv13)     [1, 512, 14, 14]     [1, 1024, 7, 7]      --                   True\n",
       "│    └─Conv2d (depthwise)                [1, 512, 14, 14]     [1, 512, 7, 7]       5,120                True\n",
       "│    └─Conv2d (pointwise)                [1, 512, 7, 7]       [1, 1024, 7, 7]      525,312              True\n",
       "├─DepthwiseSeparableConv (dw_conv14)     [1, 1024, 7, 7]      [1, 1024, 7, 7]      --                   True\n",
       "│    └─Conv2d (depthwise)                [1, 1024, 7, 7]      [1, 1024, 7, 7]      10,240               True\n",
       "│    └─Conv2d (pointwise)                [1, 1024, 7, 7]      [1, 1024, 7, 7]      1,049,600            True\n",
       "├─AdaptiveAvgPool2d (avg_pool)           [1, 1024, 7, 7]      [1, 1024, 1, 1]      --                   --\n",
       "├─Linear (fc)                            [1, 1024]            [1, 1000]            1,025,000            True\n",
       "========================================================================================================================\n",
       "Total params: 4,221,032\n",
       "Trainable params: 4,221,032\n",
       "Non-trainable params: 0\n",
       "Total mult-adds (M): 573.78\n",
       "========================================================================================================================\n",
       "Input size (MB): 0.60\n",
       "Forward/backward pass size (MB): 40.35\n",
       "Params size (MB): 16.88\n",
       "Estimated Total Size (MB): 57.84\n",
       "========================================================================================================================"
      ]
     },
     "execution_count": 8,
     "metadata": {},
     "output_type": "execute_result"
    }
   ],
   "source": [
    "summary(\n",
    "    model=model,\n",
    "    input_size=(1, 3, 224, 224),  # (batch_size, color_channels, height, width)\n",
    "    # col_names=[\"input_size\"], # uncomment for smaller output\n",
    "    col_names=[\"input_size\", \"output_size\", \"num_params\", \"trainable\"],\n",
    "    col_width=20,\n",
    "    row_settings=[\"var_names\"],\n",
    ")"
   ]
  },
  {
   "cell_type": "code",
   "execution_count": 10,
   "metadata": {},
   "outputs": [],
   "source": [
    "output = model(torch.randn((1, 3, 224, 224)))"
   ]
  },
  {
   "cell_type": "code",
   "execution_count": 11,
   "metadata": {},
   "outputs": [
    {
     "data": {
      "text/plain": [
       "torch.Size([1, 1000])"
      ]
     },
     "execution_count": 11,
     "metadata": {},
     "output_type": "execute_result"
    }
   ],
   "source": [
    "output.shape"
   ]
  },
  {
   "cell_type": "code",
   "execution_count": 12,
   "metadata": {},
   "outputs": [
    {
     "data": {
      "text/plain": [
       "tensor(605)"
      ]
     },
     "execution_count": 12,
     "metadata": {},
     "output_type": "execute_result"
    }
   ],
   "source": [
    "torch.argmax(output)"
   ]
  },
  {
   "cell_type": "code",
   "execution_count": null,
   "metadata": {},
   "outputs": [],
   "source": []
  }
 ],
 "metadata": {
  "kernelspec": {
   "display_name": ".venv",
   "language": "python",
   "name": "python3"
  },
  "language_info": {
   "codemirror_mode": {
    "name": "ipython",
    "version": 3
   },
   "file_extension": ".py",
   "mimetype": "text/x-python",
   "name": "python",
   "nbconvert_exporter": "python",
   "pygments_lexer": "ipython3",
   "version": "3.9.0"
  }
 },
 "nbformat": 4,
 "nbformat_minor": 2
}
